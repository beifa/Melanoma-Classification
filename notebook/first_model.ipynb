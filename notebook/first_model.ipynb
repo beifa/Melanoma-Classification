{
 "cells": [
  {
   "cell_type": "code",
   "execution_count": 35,
   "metadata": {},
   "outputs": [],
   "source": [
    "import torch\n",
    "import torch.nn as nn\n",
    "import pandas as pd\n",
    "import torch.optim as optim\n",
    "import os\n",
    "import joblib\n",
    "import numpy as np\n",
    "from torch.utils.data import Dataset\n",
    "from sklearn.metrics import roc_auc_score\n",
    "from tqdm import tqdm\n",
    "from sklearn.metrics import classification_report"
   ]
  },
  {
   "cell_type": "code",
   "execution_count": 261,
   "metadata": {},
   "outputs": [],
   "source": [
    "PATH = r'C:\\Users\\pka\\kaggle\\melanoma\\input\\siim-isic-melanoma-classification'\n",
    "PATH_JPEG = r'C:\\Users\\pka\\kaggle\\melanoma\\input\\siim-isic-melanoma-classification\\jpeg\\train'\n",
    "PATH_DCM = r'C:\\Users\\pka\\kaggle\\melanoma\\input\\siim-isic-melanoma-classification\\train'\n",
    "PATH_PKL_128 = r'C:\\Users\\pka\\kaggle\\melanoma\\input\\siim-isic-melanoma-classification\\pkl_128'\n",
    "\n",
    "class trainDataset(Dataset):\n",
    "\n",
    "    def __init__(self, data, transform = None):\n",
    "        self.data = data\n",
    "        self.transform = transform\n",
    "\n",
    "    def __len__(self):\n",
    "        return len(self.data)\n",
    "\n",
    "    def __getitem__(self, idx):\n",
    "       \n",
    "        name = self.data.image_name.values[idx]\n",
    "        \n",
    "        image = joblib.load(os.path.join(PATH_PKL_128, f'{name}.pkl'))\n",
    "\n",
    "        if self.transform:\n",
    "            image = self.transform(image)\n",
    "        image = image.astype(np.float32)\n",
    "        image /= 255\n",
    "        image = np.transpose(image, (2,0,1))\n",
    "        target = self.data.target.values[idx]\n",
    "      \n",
    "        \n",
    "        return torch.tensor(image), torch.tensor(target, dtype = torch.float)"
   ]
  },
  {
   "cell_type": "code",
   "execution_count": 290,
   "metadata": {},
   "outputs": [],
   "source": [
    "df = pd.read_csv(os.path.join(PATH, 'train_folds.csv')).head(100)"
   ]
  },
  {
   "cell_type": "code",
   "execution_count": 393,
   "metadata": {},
   "outputs": [],
   "source": [
    "# SOURCE : https://github.com/digantamisra98/Mish\n",
    "\n",
    "import torch\n",
    "from torch import nn\n",
    "import torch.nn.functional as F\n",
    "\n",
    "\n",
    "@torch.jit.script\n",
    "def mish(input):\n",
    "    '''\n",
    "    Applies the mish function element-wise:\n",
    "    mish(x) = x * tanh(softplus(x)) = x * tanh(ln(1 + exp(x)))\n",
    "    See additional documentation for mish class.\n",
    "    '''\n",
    "    return input * torch.tanh(F.softplus(input))\n",
    "\n",
    "\n",
    "class Mish(nn.Module):\n",
    "    '''\n",
    "    Applies the mish function element-wise:\n",
    "    mish(x) = x * tanh(softplus(x)) = x * tanh(ln(1 + exp(x)))\n",
    "    Shape:\n",
    "        - Input: (N, *) where * means, any number of additional\n",
    "          dimensions\n",
    "        - Output: (N, *), same shape as the input\n",
    "    Examples:\n",
    "        >>> m = Mish()\n",
    "        >>> input = torch.randn(2)\n",
    "        >>> output = m(input)\n",
    "    '''\n",
    "    def __init__(self):\n",
    "        '''\n",
    "        Init method.\n",
    "        '''\n",
    "        super().__init__()\n",
    "\n",
    "    def forward(self, input):\n",
    "        '''\n",
    "        Forward pass of the function.\n",
    "        '''\n",
    "        return mish(input)\n",
    "\n",
    "\n",
    "class Res50(nn.Module):\n",
    "    \n",
    "    def __init__(self, out):\n",
    "        super(Res50, self).__init__()\n",
    "        import torchvision.models as models\n",
    "        m = models.resnext50_32x4d(pretrained=True)\n",
    "        in_f = m.fc.in_features\n",
    "        m.fc = nn.Identity()\n",
    "        self.model = m\n",
    "        self.h = nn.Sequential(\n",
    "                                nn.Linear(in_f, 512),\n",
    "                                Mish(),\n",
    "                                nn.BatchNorm1d(512),\n",
    "                                nn.Dropout(0.2),\n",
    "                                nn.Linear(512, out)\n",
    "                                )\n",
    "    def forward(self, x):\n",
    "        x = self.model(x)       \n",
    "        x = self.h(x)\n",
    "        return x\n",
    "        "
   ]
  },
  {
   "cell_type": "code",
   "execution_count": 394,
   "metadata": {},
   "outputs": [],
   "source": [
    "model = Res50(1)"
   ]
  },
  {
   "cell_type": "code",
   "execution_count": 395,
   "metadata": {},
   "outputs": [],
   "source": [
    "tr_idx = np.where(df.fold != 1)\n",
    "vl_idx = np.where(df.fold == 1)"
   ]
  },
  {
   "cell_type": "code",
   "execution_count": 396,
   "metadata": {},
   "outputs": [],
   "source": [
    "from torch.utils.data import DataLoader\n",
    "dl =  DataLoader(trainDataset(df.loc[tr_idx]), batch_size=10)\n",
    "vl =  DataLoader(trainDataset(df.loc[vl_idx]), batch_size=10)"
   ]
  },
  {
   "cell_type": "code",
   "execution_count": 409,
   "metadata": {},
   "outputs": [],
   "source": [
    "opt = optim.Adam(model.parameters())\n",
    "criterion = nn.BCEWithLogitsLoss()\n",
    "criterion = nn.BCELoss()\n",
    "#criterion = nn.CrossEntropyLoss()"
   ]
  },
  {
   "cell_type": "code",
   "execution_count": 411,
   "metadata": {},
   "outputs": [
    {
     "name": "stderr",
     "output_type": "stream",
     "text": [
      "100%|████████████████████████████████████████████████████████████████████████████████████| 9/9 [00:09<00:00,  1.07s/it]\n",
      "100%|████████████████████████████████████████████████████████████████████████████████████| 2/2 [00:00<00:00,  3.29it/s]"
     ]
    },
    {
     "name": "stdout",
     "output_type": "stream",
     "text": [
      "0.0\n",
      "              precision    recall  f1-score   support\n",
      "\n",
      "         0.0       0.00      0.00      0.00      18.0\n",
      "         1.0       0.00      0.00      0.00       0.0\n",
      "\n",
      "    accuracy                           0.00      18.0\n",
      "   macro avg       0.00      0.00      0.00      18.0\n",
      "weighted avg       0.00      0.00      0.00      18.0\n",
      "\n",
      "Loss train 0.5182496441735162, val loss 0.7086738049983978\n"
     ]
    },
    {
     "name": "stderr",
     "output_type": "stream",
     "text": [
      "\n"
     ]
    }
   ],
   "source": [
    "for e in range(1):\n",
    "    model.train()\n",
    "    l = []\n",
    "    v = []\n",
    "    p = []\n",
    "    t = []\n",
    "    for image, target in tqdm(dl):\n",
    "        model.zero_grad()\n",
    "        \n",
    "        y_ = model(image)      \n",
    "        loss = criterion(\n",
    "            #y_.view(-1),  #nn.BCEWithLogitsLoss()\n",
    "            torch.sigmoid(y_).view(-1),    \n",
    "            \n",
    "            target\n",
    "        )\n",
    "        l.append(loss.item())\n",
    "        loss.backward()\n",
    "        opt.step()\n",
    "        \n",
    "    model.eval()\n",
    "    with torch.no_grad():\n",
    "        for image, target in tqdm(vl):\n",
    "            y_ = model(image)            \n",
    "            loss = criterion(\n",
    "                #y_.view(-1), #nn.BCEWithLogitsLoss()\n",
    "                torch.sigmoid(y_).view(-1),\n",
    "                \n",
    "                target)\n",
    "            pred = torch.sigmoid(y_).view(-1).round()     \n",
    "            p.append(pred)\n",
    "            t.append(target)            \n",
    "            v.append(loss.item())\n",
    "        pp = torch.cat(p)\n",
    "        tt = torch.cat(t)\n",
    "        s = (pp == tt).sum().item()\n",
    "        acc = s / len(tt)\n",
    "    print(acc)\n",
    "    print(classification_report(tt.numpy(), pp.numpy()))\n",
    "    print(f'Loss train {np.mean(l)}, val loss {np.mean(v)}')    \n",
    "        \n",
    "        "
   ]
  }
 ],
 "metadata": {
  "kernelspec": {
   "display_name": "Python 3",
   "language": "python",
   "name": "python3"
  },
  "language_info": {
   "codemirror_mode": {
    "name": "ipython",
    "version": 3
   },
   "file_extension": ".py",
   "mimetype": "text/x-python",
   "name": "python",
   "nbconvert_exporter": "python",
   "pygments_lexer": "ipython3",
   "version": "3.7.7"
  }
 },
 "nbformat": 4,
 "nbformat_minor": 4
}
